{
  "cells": [
    {
      "metadata": {
        "_uuid": "4c26dad8c106fb2eacc6d703993b524774467445",
        "_cell_guid": "258f18fc-e0b2-4a55-8927-51c46077017b",
        "trusted": true
      },
      "cell_type": "code",
      "source": "# This Python 3 environment comes with many helpful analytics libraries installed\n# It is defined by the kaggle/python docker image: https://github.com/kaggle/docker-python\n# For example, here's several helpful packages to load in \n\nimport numpy as np # linear algebra\nimport pandas as pd # data processing, CSV file I/O (e.g. pd.read_csv)\n\n# Input data files are available in the \"../input/\" directory.\n# For example, running this (by clicking run or pressing Shift+Enter) will list the files in the input directory\n\nimport os\nprint(os.listdir(\"../input\"))\n\n# Any results you write to the current directory are saved as output.",
      "execution_count": 2,
      "outputs": [
        {
          "output_type": "stream",
          "text": "['df.csv']\n",
          "name": "stdout"
        }
      ]
    },
    {
      "metadata": {
        "trusted": true,
        "_uuid": "846b30a74557a0d99ea05ac094fe5c3a9bea5c4b"
      },
      "cell_type": "code",
      "source": "import fnmatch\nfrom textblob import TextBlob\nimport pandas as pd\nfrom sklearn.feature_extraction.text import TfidfVectorizer\nfrom nltk.corpus import stopwords\nfrom nltk import pos_tag,pos_tag_sents\nimport regex as re\nimport operator\nfrom sklearn.svm import SVC, LinearSVC\nfrom sklearn.metrics import classification_report, accuracy_score, confusion_matrix\nfrom sklearn.cross_validation import train_test_split  \nfrom sklearn import metrics\nfrom sklearn import svm\nfrom sklearn.grid_search import GridSearchCV\nimport pickle\nfrom nltk.corpus import stopwords",
      "execution_count": 3,
      "outputs": [
        {
          "output_type": "stream",
          "text": "/opt/conda/lib/python3.6/site-packages/sklearn/cross_validation.py:41: DeprecationWarning: This module was deprecated in version 0.18 in favor of the model_selection module into which all the refactored classes and functions are moved. Also note that the interface of the new CV iterators are different from that of this module. This module will be removed in 0.20.\n  \"This module will be removed in 0.20.\", DeprecationWarning)\n/opt/conda/lib/python3.6/site-packages/sklearn/grid_search.py:42: DeprecationWarning: This module was deprecated in version 0.18 in favor of the model_selection module into which all the refactored classes and functions are moved. This module will be removed in 0.20.\n  DeprecationWarning)\n",
          "name": "stderr"
        }
      ]
    },
    {
      "metadata": {
        "trusted": true,
        "_uuid": "36564fcaa498bbaf62052d8c006fa908701c6d1e"
      },
      "cell_type": "code",
      "source": "result=pd.read_csv('../input/df.csv')\nresult.sample(10)",
      "execution_count": 4,
      "outputs": [
        {
          "output_type": "execute_result",
          "execution_count": 4,
          "data": {
            "text/plain": "                                           HotelReviews     Labels\n1221  the james hotel is located close to everything...      truth\n628   i have been meaning to write a review of the o...      truth\n1068  this hotel was worth every cent. you have not ...  deceptive\n1489  i have been 4 times in chicago, and i have sta...      truth\n602   first let me say, i try not to be too critical...      truth\n357   i was highly disappointed with my choice to st...  deceptive\n215   this hotel was full of drunks. the lobby was f...  deceptive\n93    extremely disappointed in our stay. this hotel...  deceptive\n641   upon first entering the hotel, we were greeted...      truth\n670   we stayed at this hotel with our two teenage d...      truth",
            "text/html": "<div>\n<style scoped>\n    .dataframe tbody tr th:only-of-type {\n        vertical-align: middle;\n    }\n\n    .dataframe tbody tr th {\n        vertical-align: top;\n    }\n\n    .dataframe thead th {\n        text-align: right;\n    }\n</style>\n<table border=\"1\" class=\"dataframe\">\n  <thead>\n    <tr style=\"text-align: right;\">\n      <th></th>\n      <th>HotelReviews</th>\n      <th>Labels</th>\n    </tr>\n  </thead>\n  <tbody>\n    <tr>\n      <th>1221</th>\n      <td>the james hotel is located close to everything...</td>\n      <td>truth</td>\n    </tr>\n    <tr>\n      <th>628</th>\n      <td>i have been meaning to write a review of the o...</td>\n      <td>truth</td>\n    </tr>\n    <tr>\n      <th>1068</th>\n      <td>this hotel was worth every cent. you have not ...</td>\n      <td>deceptive</td>\n    </tr>\n    <tr>\n      <th>1489</th>\n      <td>i have been 4 times in chicago, and i have sta...</td>\n      <td>truth</td>\n    </tr>\n    <tr>\n      <th>602</th>\n      <td>first let me say, i try not to be too critical...</td>\n      <td>truth</td>\n    </tr>\n    <tr>\n      <th>357</th>\n      <td>i was highly disappointed with my choice to st...</td>\n      <td>deceptive</td>\n    </tr>\n    <tr>\n      <th>215</th>\n      <td>this hotel was full of drunks. the lobby was f...</td>\n      <td>deceptive</td>\n    </tr>\n    <tr>\n      <th>93</th>\n      <td>extremely disappointed in our stay. this hotel...</td>\n      <td>deceptive</td>\n    </tr>\n    <tr>\n      <th>641</th>\n      <td>upon first entering the hotel, we were greeted...</td>\n      <td>truth</td>\n    </tr>\n    <tr>\n      <th>670</th>\n      <td>we stayed at this hotel with our two teenage d...</td>\n      <td>truth</td>\n    </tr>\n  </tbody>\n</table>\n</div>"
          },
          "metadata": {}
        }
      ]
    },
    {
      "metadata": {
        "trusted": true,
        "_uuid": "4a8695d387b8441cdae896f9c6dfe064eeb54d7b",
        "collapsed": true
      },
      "cell_type": "code",
      "source": "import nltk\n",
      "execution_count": 5,
      "outputs": []
    },
    {
      "metadata": {
        "trusted": true,
        "collapsed": true,
        "_uuid": "49ecd78f613c0e50e4599cf02f60785cc2fde6b8"
      },
      "cell_type": "code",
      "source": "stopwords_nltk_en = set(stopwords.words('english'))",
      "execution_count": 6,
      "outputs": []
    },
    {
      "metadata": {
        "trusted": true,
        "collapsed": true,
        "_uuid": "64bcdddeff0735774d6f1176d949d8ff75f085b9"
      },
      "cell_type": "code",
      "source": "stop = stopwords.words('english')\n\nresult['review_without_stopwords'] = result['HotelReviews'].apply(lambda x: ' '.join([word for word in x.split() if word not in (stop)]))",
      "execution_count": 7,
      "outputs": []
    },
    {
      "metadata": {
        "trusted": true,
        "_uuid": "8d54358ac7900ce4478486366d0933b68a2b8f28"
      },
      "cell_type": "code",
      "source": "result.head()",
      "execution_count": 8,
      "outputs": [
        {
          "output_type": "execute_result",
          "execution_count": 8,
          "data": {
            "text/plain": "                                        HotelReviews                        ...                                                   review_without_stopwords\n0  we stayed at the schicago hilton for 4 days an...                        ...                          stayed schicago hilton 4 days 3 nights confere...\n1  hotel is located 1/2 mile from the train stati...                        ...                          hotel located 1/2 mile train station quite hik...\n2  i made my reservation at the hilton chicago be...                        ...                          made reservation hilton chicago believing goin...\n3  when most people think hilton, they think luxu...                        ...                          people think hilton, think luxury. know did. w...\n4  my husband and i recently stayed stayed at the...                        ...                          husband recently stayed stayed hilton chicago ...\n\n[5 rows x 3 columns]",
            "text/html": "<div>\n<style scoped>\n    .dataframe tbody tr th:only-of-type {\n        vertical-align: middle;\n    }\n\n    .dataframe tbody tr th {\n        vertical-align: top;\n    }\n\n    .dataframe thead th {\n        text-align: right;\n    }\n</style>\n<table border=\"1\" class=\"dataframe\">\n  <thead>\n    <tr style=\"text-align: right;\">\n      <th></th>\n      <th>HotelReviews</th>\n      <th>Labels</th>\n      <th>review_without_stopwords</th>\n    </tr>\n  </thead>\n  <tbody>\n    <tr>\n      <th>0</th>\n      <td>we stayed at the schicago hilton for 4 days an...</td>\n      <td>deceptive</td>\n      <td>stayed schicago hilton 4 days 3 nights confere...</td>\n    </tr>\n    <tr>\n      <th>1</th>\n      <td>hotel is located 1/2 mile from the train stati...</td>\n      <td>deceptive</td>\n      <td>hotel located 1/2 mile train station quite hik...</td>\n    </tr>\n    <tr>\n      <th>2</th>\n      <td>i made my reservation at the hilton chicago be...</td>\n      <td>deceptive</td>\n      <td>made reservation hilton chicago believing goin...</td>\n    </tr>\n    <tr>\n      <th>3</th>\n      <td>when most people think hilton, they think luxu...</td>\n      <td>deceptive</td>\n      <td>people think hilton, think luxury. know did. w...</td>\n    </tr>\n    <tr>\n      <th>4</th>\n      <td>my husband and i recently stayed stayed at the...</td>\n      <td>deceptive</td>\n      <td>husband recently stayed stayed hilton chicago ...</td>\n    </tr>\n  </tbody>\n</table>\n</div>"
          },
          "metadata": {}
        }
      ]
    },
    {
      "metadata": {
        "trusted": true,
        "collapsed": true,
        "_uuid": "a17e1d091d78621072325ac6680024d2e8d592a4"
      },
      "cell_type": "code",
      "source": "def pos(review_without_stopwords):\n    return TextBlob(review_without_stopwords).tags",
      "execution_count": 10,
      "outputs": []
    },
    {
      "metadata": {
        "trusted": true,
        "collapsed": true,
        "_uuid": "21db3cb3a85d97be979ebed1d0f44c278308045a"
      },
      "cell_type": "code",
      "source": "os = result.review_without_stopwords.apply(pos)\nos1 = pd.DataFrame(os)",
      "execution_count": 11,
      "outputs": []
    },
    {
      "metadata": {
        "_uuid": "9c4d7eab5a1c8b097ca5b2ac94439774b637a481"
      },
      "cell_type": "markdown",
      "source": "os1 dataframe's each row will consist of a list of words with their respective part of speech. "
    },
    {
      "metadata": {
        "trusted": true,
        "_uuid": "17874999441aa0861a2af7eff5bd89f7acc733a6"
      },
      "cell_type": "code",
      "source": "os1.head()",
      "execution_count": 12,
      "outputs": [
        {
          "output_type": "execute_result",
          "execution_count": 12,
          "data": {
            "text/plain": "                            review_without_stopwords\n0  [(stayed, VBN), (schicago, JJ), (hilton, NN), ...\n1  [(hotel, NN), (located, VBD), (1/2, CD), (mile...\n2  [(made, VBN), (reservation, NN), (hilton, NN),...\n3  [(people, NNS), (think, VBP), (hilton, NN), (t...\n4  [(husband, NN), (recently, RB), (stayed, VBD),...",
            "text/html": "<div>\n<style scoped>\n    .dataframe tbody tr th:only-of-type {\n        vertical-align: middle;\n    }\n\n    .dataframe tbody tr th {\n        vertical-align: top;\n    }\n\n    .dataframe thead th {\n        text-align: right;\n    }\n</style>\n<table border=\"1\" class=\"dataframe\">\n  <thead>\n    <tr style=\"text-align: right;\">\n      <th></th>\n      <th>review_without_stopwords</th>\n    </tr>\n  </thead>\n  <tbody>\n    <tr>\n      <th>0</th>\n      <td>[(stayed, VBN), (schicago, JJ), (hilton, NN), ...</td>\n    </tr>\n    <tr>\n      <th>1</th>\n      <td>[(hotel, NN), (located, VBD), (1/2, CD), (mile...</td>\n    </tr>\n    <tr>\n      <th>2</th>\n      <td>[(made, VBN), (reservation, NN), (hilton, NN),...</td>\n    </tr>\n    <tr>\n      <th>3</th>\n      <td>[(people, NNS), (think, VBP), (hilton, NN), (t...</td>\n    </tr>\n    <tr>\n      <th>4</th>\n      <td>[(husband, NN), (recently, RB), (stayed, VBD),...</td>\n    </tr>\n  </tbody>\n</table>\n</div>"
          },
          "metadata": {}
        }
      ]
    },
    {
      "metadata": {
        "_uuid": "dbbd128b7754fa488986036a55ce09ecbe52e167",
        "_cell_guid": "a97cb294-eb6c-479e-944a-b82e63dc008f",
        "trusted": true
      },
      "cell_type": "code",
      "source": "os1['pos'] = os1['review_without_stopwords'].map(lambda x:\" \".join([\"/\".join(x) for x in x ]) )\nos1.head()",
      "execution_count": 14,
      "outputs": [
        {
          "output_type": "execute_result",
          "execution_count": 14,
          "data": {
            "text/plain": "                            review_without_stopwords                                                pos\n0  [(stayed, VBN), (schicago, JJ), (hilton, NN), ...  stayed/VBN schicago/JJ hilton/NN 4/CD days/NNS...\n1  [(hotel, NN), (located, VBD), (1/2, CD), (mile...  hotel/NN located/VBD 1/2/CD mile/NN train/NN s...\n2  [(made, VBN), (reservation, NN), (hilton, NN),...  made/VBN reservation/NN hilton/NN chicago/NN b...\n3  [(people, NNS), (think, VBP), (hilton, NN), (t...  people/NNS think/VBP hilton/NN think/VBP luxur...\n4  [(husband, NN), (recently, RB), (stayed, VBD),...  husband/NN recently/RB stayed/VBD stayed/JJ hi...",
            "text/html": "<div>\n<style scoped>\n    .dataframe tbody tr th:only-of-type {\n        vertical-align: middle;\n    }\n\n    .dataframe tbody tr th {\n        vertical-align: top;\n    }\n\n    .dataframe thead th {\n        text-align: right;\n    }\n</style>\n<table border=\"1\" class=\"dataframe\">\n  <thead>\n    <tr style=\"text-align: right;\">\n      <th></th>\n      <th>review_without_stopwords</th>\n      <th>pos</th>\n    </tr>\n  </thead>\n  <tbody>\n    <tr>\n      <th>0</th>\n      <td>[(stayed, VBN), (schicago, JJ), (hilton, NN), ...</td>\n      <td>stayed/VBN schicago/JJ hilton/NN 4/CD days/NNS...</td>\n    </tr>\n    <tr>\n      <th>1</th>\n      <td>[(hotel, NN), (located, VBD), (1/2, CD), (mile...</td>\n      <td>hotel/NN located/VBD 1/2/CD mile/NN train/NN s...</td>\n    </tr>\n    <tr>\n      <th>2</th>\n      <td>[(made, VBN), (reservation, NN), (hilton, NN),...</td>\n      <td>made/VBN reservation/NN hilton/NN chicago/NN b...</td>\n    </tr>\n    <tr>\n      <th>3</th>\n      <td>[(people, NNS), (think, VBP), (hilton, NN), (t...</td>\n      <td>people/NNS think/VBP hilton/NN think/VBP luxur...</td>\n    </tr>\n    <tr>\n      <th>4</th>\n      <td>[(husband, NN), (recently, RB), (stayed, VBD),...</td>\n      <td>husband/NN recently/RB stayed/VBD stayed/JJ hi...</td>\n    </tr>\n  </tbody>\n</table>\n</div>"
          },
          "metadata": {}
        }
      ]
    },
    {
      "metadata": {
        "trusted": true,
        "_uuid": "6c73bdc2952e4cc4c2bd5f081a54b276e7dde407"
      },
      "cell_type": "code",
      "source": "result = result = pd.merge(result, os1,right_index=True,left_index = True)\nresult.head()",
      "execution_count": 15,
      "outputs": [
        {
          "output_type": "execute_result",
          "execution_count": 15,
          "data": {
            "text/plain": "                                        HotelReviews                        ...                                                                        pos\n0  we stayed at the schicago hilton for 4 days an...                        ...                          stayed/VBN schicago/JJ hilton/NN 4/CD days/NNS...\n1  hotel is located 1/2 mile from the train stati...                        ...                          hotel/NN located/VBD 1/2/CD mile/NN train/NN s...\n2  i made my reservation at the hilton chicago be...                        ...                          made/VBN reservation/NN hilton/NN chicago/NN b...\n3  when most people think hilton, they think luxu...                        ...                          people/NNS think/VBP hilton/NN think/VBP luxur...\n4  my husband and i recently stayed stayed at the...                        ...                          husband/NN recently/RB stayed/VBD stayed/JJ hi...\n\n[5 rows x 5 columns]",
            "text/html": "<div>\n<style scoped>\n    .dataframe tbody tr th:only-of-type {\n        vertical-align: middle;\n    }\n\n    .dataframe tbody tr th {\n        vertical-align: top;\n    }\n\n    .dataframe thead th {\n        text-align: right;\n    }\n</style>\n<table border=\"1\" class=\"dataframe\">\n  <thead>\n    <tr style=\"text-align: right;\">\n      <th></th>\n      <th>HotelReviews</th>\n      <th>Labels</th>\n      <th>review_without_stopwords_x</th>\n      <th>review_without_stopwords_y</th>\n      <th>pos</th>\n    </tr>\n  </thead>\n  <tbody>\n    <tr>\n      <th>0</th>\n      <td>we stayed at the schicago hilton for 4 days an...</td>\n      <td>deceptive</td>\n      <td>stayed schicago hilton 4 days 3 nights confere...</td>\n      <td>[(stayed, VBN), (schicago, JJ), (hilton, NN), ...</td>\n      <td>stayed/VBN schicago/JJ hilton/NN 4/CD days/NNS...</td>\n    </tr>\n    <tr>\n      <th>1</th>\n      <td>hotel is located 1/2 mile from the train stati...</td>\n      <td>deceptive</td>\n      <td>hotel located 1/2 mile train station quite hik...</td>\n      <td>[(hotel, NN), (located, VBD), (1/2, CD), (mile...</td>\n      <td>hotel/NN located/VBD 1/2/CD mile/NN train/NN s...</td>\n    </tr>\n    <tr>\n      <th>2</th>\n      <td>i made my reservation at the hilton chicago be...</td>\n      <td>deceptive</td>\n      <td>made reservation hilton chicago believing goin...</td>\n      <td>[(made, VBN), (reservation, NN), (hilton, NN),...</td>\n      <td>made/VBN reservation/NN hilton/NN chicago/NN b...</td>\n    </tr>\n    <tr>\n      <th>3</th>\n      <td>when most people think hilton, they think luxu...</td>\n      <td>deceptive</td>\n      <td>people think hilton, think luxury. know did. w...</td>\n      <td>[(people, NNS), (think, VBP), (hilton, NN), (t...</td>\n      <td>people/NNS think/VBP hilton/NN think/VBP luxur...</td>\n    </tr>\n    <tr>\n      <th>4</th>\n      <td>my husband and i recently stayed stayed at the...</td>\n      <td>deceptive</td>\n      <td>husband recently stayed stayed hilton chicago ...</td>\n      <td>[(husband, NN), (recently, RB), (stayed, VBD),...</td>\n      <td>husband/NN recently/RB stayed/VBD stayed/JJ hi...</td>\n    </tr>\n  </tbody>\n</table>\n</div>"
          },
          "metadata": {}
        }
      ]
    },
    {
      "metadata": {
        "_uuid": "2151fb374be5b283a006baf844c61583572c3640"
      },
      "cell_type": "markdown",
      "source": "### Training Phase"
    },
    {
      "metadata": {
        "trusted": true,
        "collapsed": true,
        "_uuid": "39903d6225852dae8b31ee0204bc5030ab3819c4"
      },
      "cell_type": "code",
      "source": "review_train, review_test, label_train, label_test = train_test_split(result['pos'],result['Labels'], test_size=0.2,random_state=13)",
      "execution_count": 16,
      "outputs": []
    },
    {
      "metadata": {
        "_uuid": "b3aea0bd789e7017b0fac5e1af2fd9b3a19e0949"
      },
      "cell_type": "markdown",
      "source": "### Vectorize the Training and Testing data using TfidfVectorizer"
    },
    {
      "metadata": {
        "trusted": true,
        "collapsed": true,
        "_uuid": "9140fd0d4cd83dbf1dcc5a9566f818e75d042649"
      },
      "cell_type": "code",
      "source": "tf_vect = TfidfVectorizer(lowercase = True, use_idf=True, smooth_idf=True, sublinear_tf=False)\n\nX_train_tf = tf_vect.fit_transform(review_train)\nX_test_tf = tf_vect.transform(review_test)",
      "execution_count": 17,
      "outputs": []
    },
    {
      "metadata": {
        "_uuid": "c0d1a320ba8630e45ebf15398e2fae01a194cdd8"
      },
      "cell_type": "markdown",
      "source": "### Implementing the Model"
    },
    {
      "metadata": {
        "_uuid": "6df47d49baf07c73a863a167090614a60018412d"
      },
      "cell_type": "markdown",
      "source": "#### SVM"
    },
    {
      "metadata": {
        "trusted": true,
        "collapsed": true,
        "_uuid": "a54800031900149019e2f6e072c6b1d8ebdff6a3"
      },
      "cell_type": "code",
      "source": "def svc_param_selection(X, y, nfolds):\n    Cs = [0.001, 0.01, 0.1, 1, 10]\n    gammas = [0.001, 0.01, 0.1, 1]\n    param_grid = {'C': Cs, 'gamma' : gammas}\n    grid_search = GridSearchCV(svm.SVC(kernel='linear'), param_grid, cv=nfolds)\n    grid_search.fit(X, y)\n    return grid_search.best_params_",
      "execution_count": 18,
      "outputs": []
    },
    {
      "metadata": {
        "trusted": true,
        "_uuid": "45759169f4ad7bc7d30cc41b481b2a8cf2b11e35"
      },
      "cell_type": "code",
      "source": "svc_param_selection(X_train_tf,label_train,5)",
      "execution_count": 19,
      "outputs": [
        {
          "output_type": "execute_result",
          "execution_count": 19,
          "data": {
            "text/plain": "{'C': 1, 'gamma': 0.001}"
          },
          "metadata": {}
        }
      ]
    },
    {
      "metadata": {
        "trusted": true,
        "collapsed": true,
        "_uuid": "1e811c14117361cc55c7ef6b4cbe9a0385f7fd6e"
      },
      "cell_type": "code",
      "source": "clf = svm.SVC(C=10,gamma=0.001,kernel='linear')\nclf.fit(X_train_tf,label_train)\npred = clf.predict(X_test_tf)",
      "execution_count": 20,
      "outputs": []
    },
    {
      "metadata": {
        "_uuid": "5a0df2b58b9445ca821b399532f08ba12b803359"
      },
      "cell_type": "markdown",
      "source": "#### Predict on the Test Data"
    },
    {
      "metadata": {
        "trusted": true,
        "collapsed": true,
        "_uuid": "b0b36ed6dc5742b07005928db659462b3b0baa58"
      },
      "cell_type": "code",
      "source": "X_test_tf = tf_vect.transform(review_test)\npred = clf.predict(X_test_tf)",
      "execution_count": 22,
      "outputs": []
    },
    {
      "metadata": {
        "trusted": true,
        "_uuid": "c9c1bb313ef07a570a815392996797d6bfd7e92c"
      },
      "cell_type": "code",
      "source": "print(metrics.accuracy_score(label_test, pred))",
      "execution_count": 23,
      "outputs": [
        {
          "output_type": "stream",
          "text": "0.884375\n",
          "name": "stdout"
        }
      ]
    },
    {
      "metadata": {
        "trusted": true,
        "_uuid": "9c67bd6999c95775aefdcb7e2c8e163a705ecdef"
      },
      "cell_type": "code",
      "source": "print (confusion_matrix(label_test, pred))",
      "execution_count": 24,
      "outputs": [
        {
          "output_type": "stream",
          "text": "[[139  16]\n [ 21 144]]\n",
          "name": "stdout"
        }
      ]
    },
    {
      "metadata": {
        "trusted": true,
        "_uuid": "3c612db556dd5cee920c0f0d0ec85a5ba07dea41"
      },
      "cell_type": "code",
      "source": "print (classification_report(label_test, pred))",
      "execution_count": 25,
      "outputs": [
        {
          "output_type": "stream",
          "text": "             precision    recall  f1-score   support\n\n  deceptive       0.87      0.90      0.88       155\n      truth       0.90      0.87      0.89       165\n\navg / total       0.88      0.88      0.88       320\n\n",
          "name": "stdout"
        }
      ]
    },
    {
      "metadata": {
        "_uuid": "c19472b11c4d942392b4742da12be4963c6d7280"
      },
      "cell_type": "markdown",
      "source": "### Test the Model using different Random States"
    },
    {
      "metadata": {
        "_uuid": "2ac89db8a94db102019cfdff700bbf074875ee17"
      },
      "cell_type": "markdown",
      "source": "- Random State 1"
    },
    {
      "metadata": {
        "trusted": true,
        "collapsed": true,
        "_uuid": "a60e7d6b598e7bf5e714834608525a602f72fdf9"
      },
      "cell_type": "code",
      "source": "review_train, review_test, label_train, label_test = train_test_split(result['pos'],result['Labels'], test_size=0.2,random_state=1)",
      "execution_count": 27,
      "outputs": []
    },
    {
      "metadata": {
        "trusted": true,
        "collapsed": true,
        "_uuid": "44b81265eb862ce6cba1fb3eecd68db9868f32a7"
      },
      "cell_type": "code",
      "source": "X_test_tf = tf_vect.transform(review_test)\npred = clf.predict(X_test_tf)",
      "execution_count": 28,
      "outputs": []
    },
    {
      "metadata": {
        "trusted": true,
        "_uuid": "6fd35a1d87366fab7529f1b7007a08f9e8b71749"
      },
      "cell_type": "code",
      "source": "print(metrics.accuracy_score(label_test, pred))",
      "execution_count": 29,
      "outputs": [
        {
          "output_type": "stream",
          "text": "0.984375\n",
          "name": "stdout"
        }
      ]
    },
    {
      "metadata": {
        "trusted": true,
        "_uuid": "9799329283cf5813591defe1e2282f830243d0d0"
      },
      "cell_type": "code",
      "source": "print (confusion_matrix(label_test, pred))",
      "execution_count": 30,
      "outputs": [
        {
          "output_type": "stream",
          "text": "[[149   2]\n [  3 166]]\n",
          "name": "stdout"
        }
      ]
    },
    {
      "metadata": {
        "trusted": true,
        "_uuid": "99a98d3c8fa4771524223e69800669880344588b"
      },
      "cell_type": "code",
      "source": "print (classification_report(label_test, pred))",
      "execution_count": 31,
      "outputs": [
        {
          "output_type": "stream",
          "text": "             precision    recall  f1-score   support\n\n  deceptive       0.98      0.99      0.98       151\n      truth       0.99      0.98      0.99       169\n\navg / total       0.98      0.98      0.98       320\n\n",
          "name": "stdout"
        }
      ]
    },
    {
      "metadata": {
        "_uuid": "5b1019cd19e8c47b91aca3a6f1795ee41e0f8e21"
      },
      "cell_type": "markdown",
      "source": "- Random State 10"
    },
    {
      "metadata": {
        "trusted": true,
        "collapsed": true,
        "_uuid": "2b6e58fd0a7db9d1ef9c49b9990eb7da61699ff4"
      },
      "cell_type": "code",
      "source": "review_train, review_test, label_train, label_test = train_test_split(result['pos'],result['Labels'], test_size=0.2,random_state=10)",
      "execution_count": 33,
      "outputs": []
    },
    {
      "metadata": {
        "trusted": true,
        "collapsed": true,
        "_uuid": "cc4ab090c211e0a8763c919cd639a0c801cc4752"
      },
      "cell_type": "code",
      "source": "X_test_tf = tf_vect.transform(review_test)\npred = clf.predict(X_test_tf)",
      "execution_count": 34,
      "outputs": []
    },
    {
      "metadata": {
        "trusted": true,
        "_uuid": "a30a5004fc9d9a8dd2510e58379b86bb3eae5645"
      },
      "cell_type": "code",
      "source": "print(metrics.accuracy_score(label_test, pred))",
      "execution_count": 35,
      "outputs": [
        {
          "output_type": "stream",
          "text": "0.971875\n",
          "name": "stdout"
        }
      ]
    },
    {
      "metadata": {
        "trusted": true,
        "_uuid": "e769b9bbdba3407e525751e3ea8a2cee103564c9"
      },
      "cell_type": "code",
      "source": "print (confusion_matrix(label_test, pred))",
      "execution_count": 36,
      "outputs": [
        {
          "output_type": "stream",
          "text": "[[157   3]\n [  6 154]]\n",
          "name": "stdout"
        }
      ]
    },
    {
      "metadata": {
        "trusted": true,
        "_uuid": "5eaee861b42bdee23ccefcf183d0a5774867bb9b"
      },
      "cell_type": "code",
      "source": "print (classification_report(label_test, pred))",
      "execution_count": 37,
      "outputs": [
        {
          "output_type": "stream",
          "text": "             precision    recall  f1-score   support\n\n  deceptive       0.96      0.98      0.97       160\n      truth       0.98      0.96      0.97       160\n\navg / total       0.97      0.97      0.97       320\n\n",
          "name": "stdout"
        }
      ]
    },
    {
      "metadata": {
        "_uuid": "79698a0a9c11d82855120d7a04444613f5bc7233"
      },
      "cell_type": "markdown",
      "source": "- Random State 42"
    },
    {
      "metadata": {
        "trusted": true,
        "collapsed": true,
        "_uuid": "bf001df1a626a31d97a36bb892b34b22a176f34a"
      },
      "cell_type": "code",
      "source": "review_train, review_test, label_train, label_test = train_test_split(result['pos'],result['Labels'], test_size=0.2,random_state=42)",
      "execution_count": 38,
      "outputs": []
    },
    {
      "metadata": {
        "trusted": true,
        "collapsed": true,
        "_uuid": "8967a34143e291f2364d5250c184df5a427f95f9"
      },
      "cell_type": "code",
      "source": "X_test_tf = tf_vect.transform(review_test)\npred = clf.predict(X_test_tf)",
      "execution_count": 39,
      "outputs": []
    },
    {
      "metadata": {
        "trusted": true,
        "_uuid": "af21e20e35adf8a4dcd465eda56e9f2ecfce8574"
      },
      "cell_type": "code",
      "source": "print(metrics.accuracy_score(label_test, pred))",
      "execution_count": 40,
      "outputs": [
        {
          "output_type": "stream",
          "text": "0.975\n",
          "name": "stdout"
        }
      ]
    },
    {
      "metadata": {
        "trusted": true,
        "_uuid": "aac9ffb4ef4dacfc42a7a23e05fd3b3ba24346c4"
      },
      "cell_type": "code",
      "source": "print (confusion_matrix(label_test, pred))",
      "execution_count": 41,
      "outputs": [
        {
          "output_type": "stream",
          "text": "[[166   2]\n [  6 146]]\n",
          "name": "stdout"
        }
      ]
    },
    {
      "metadata": {
        "trusted": true,
        "_uuid": "3ecb133f8251bbd5e985d9976271521d0a903d0a"
      },
      "cell_type": "code",
      "source": "print (classification_report(label_test, pred))",
      "execution_count": 42,
      "outputs": [
        {
          "output_type": "stream",
          "text": "             precision    recall  f1-score   support\n\n  deceptive       0.97      0.99      0.98       168\n      truth       0.99      0.96      0.97       152\n\navg / total       0.98      0.97      0.97       320\n\n",
          "name": "stdout"
        }
      ]
    },
    {
      "metadata": {
        "_uuid": "afa7e440572db0ee1554bb0c9a599318b373d115"
      },
      "cell_type": "markdown",
      "source": "#### Test the model with two reviews from Yelp\n"
    },
    {
      "metadata": {
        "trusted": true,
        "collapsed": true,
        "_uuid": "084636259bd0a3f9a57cedfafc0f87ca99554543"
      },
      "cell_type": "code",
      "source": "def test_string(s):\n    X_test_tf = tf_vect.transform([s])\n    y_predict = clf.predict(X_test_tf)\n    return y_predict",
      "execution_count": 43,
      "outputs": []
    },
    {
      "metadata": {
        "trusted": true,
        "_uuid": "d271c388cbbb5718232f2089b48bf4c5c12bd65e"
      },
      "cell_type": "code",
      "source": "test_string(\"The hotel was good.The room had a 27-inch Samsung led tv, a microwave.The room had a double bed\")",
      "execution_count": 44,
      "outputs": [
        {
          "output_type": "execute_result",
          "execution_count": 44,
          "data": {
            "text/plain": "array(['truth'], dtype=object)"
          },
          "metadata": {}
        }
      ]
    },
    {
      "metadata": {
        "trusted": true,
        "_uuid": "ea5cb278832309063791d1d58cc8f8741891b223"
      },
      "cell_type": "code",
      "source": "test_string(\"My husband and I satayed for two nights at the Hilton Chicago,and enjoyed every minute of it! The bedrooms are immaculate,and the linnens are very soft. We also appreciated the free wifi,as we could stay in touch with friends while staying in Chicago. The bathroom was quite spacious,and I loved the smell of the shampoo they provided-not like most hotel shampoos. Their service was amazing,and we absolutely loved the beautiful indoor pool. I would recommend staying here to anyone.\")",
      "execution_count": 48,
      "outputs": [
        {
          "output_type": "execute_result",
          "execution_count": 48,
          "data": {
            "text/plain": "array(['deceptive'], dtype=object)"
          },
          "metadata": {}
        }
      ]
    },
    {
      "metadata": {
        "_uuid": "e6844a060c70e67e6b832a350602636727ba63c3"
      },
      "cell_type": "markdown",
      "source": "Well, the model predicted the above two reviews correctly. The first review is a Truthful review while the second review is a deceptive one!"
    }
  ],
  "metadata": {
    "kernelspec": {
      "display_name": "Python 3",
      "language": "python",
      "name": "python3"
    },
    "language_info": {
      "name": "python",
      "version": "3.6.6",
      "mimetype": "text/x-python",
      "codemirror_mode": {
        "name": "ipython",
        "version": 3
      },
      "pygments_lexer": "ipython3",
      "nbconvert_exporter": "python",
      "file_extension": ".py"
    }
  },
  "nbformat": 4,
  "nbformat_minor": 1
}