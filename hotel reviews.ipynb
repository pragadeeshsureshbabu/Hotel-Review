{
 "cells": [
  {
   "cell_type": "code",
   "execution_count": 3,
   "metadata": {},
   "outputs": [
    {
     "name": "stderr",
     "output_type": "stream",
     "text": [
      "C:\\Users\\praga\\Anaconda2\\lib\\site-packages\\sklearn\\cross_validation.py:41: DeprecationWarning: This module was deprecated in version 0.18 in favor of the model_selection module into which all the refactored classes and functions are moved. Also note that the interface of the new CV iterators are different from that of this module. This module will be removed in 0.20.\n",
      "  \"This module will be removed in 0.20.\", DeprecationWarning)\n",
      "C:\\Users\\praga\\Anaconda2\\lib\\site-packages\\sklearn\\grid_search.py:42: DeprecationWarning: This module was deprecated in version 0.18 in favor of the model_selection module into which all the refactored classes and functions are moved. This module will be removed in 0.20.\n",
      "  DeprecationWarning)\n"
     ]
    }
   ],
   "source": [
    "import os\n",
    "import fnmatch\n",
    "from textblob import TextBlob\n",
    "import pandas as pd\n",
    "from sklearn.feature_extraction.text import TfidfVectorizer\n",
    "from nltk.corpus import stopwords\n",
    "from nltk import pos_tag,pos_tag_sents\n",
    "import regex as re\n",
    "import operator\n",
    "from sklearn.svm import SVC, LinearSVC\n",
    "from sklearn.metrics import classification_report, accuracy_score, confusion_matrix\n",
    "from sklearn.cross_validation import train_test_split  \n",
    "from sklearn import metrics\n",
    "from sklearn import svm\n",
    "from sklearn.grid_search import GridSearchCV\n",
    "import pickle\n",
    "from nltk.corpus import stopwords"
   ]
  },
  {
   "cell_type": "markdown",
   "metadata": {},
   "source": [
    "Deceptive opinion spam dataset is a corpus consisting of truthful and deceptive hotel reviews of 20 Chicago hotels. The data is described in two papers according to the sentiment of the review. In particular, the article discusses positive sentiment reviews in 1 and negative sentiment reviews in 2.\n",
    "\n",
    "The corpus contains:\n",
    "\n",
    "- 400 deceptive negative reviews from Mechanical Turk\n",
    "- 400 truthful, negative reviews from Expedia, Hotels.com, Orbitz, Priceline, TripAdvisor, and Yelp\n",
    "- 400 deceptive positive reviews from Mechanical Turk\n",
    "-  400 truthful, positive reviews from TripAdvisor"
   ]
  },
  {
   "cell_type": "code",
   "execution_count": 7,
   "metadata": {},
   "outputs": [
    {
     "data": {
      "text/plain": [
       "1600"
      ]
     },
     "execution_count": 7,
     "metadata": {},
     "output_type": "execute_result"
    }
   ],
   "source": [
    "path = '/Users/praga/Downloads/op_spam_v1.4/'\n",
    "\n",
    "label = []\n",
    "\n",
    "configfiles = [os.path.join(subdir,f)\n",
    "for subdir, dirs, files in os.walk(path)\n",
    "    for f in fnmatch.filter(files, '*.txt')]\n",
    "len(configfiles)"
   ]
  },
  {
   "cell_type": "code",
   "execution_count": 8,
   "metadata": {},
   "outputs": [
    {
     "data": {
      "text/plain": [
       "'/Users/praga/Downloads/op_spam_v1.4/negative_polarity\\\\deceptive_from_MTurk\\\\fold1\\\\d_hilton_1.txt'"
      ]
     },
     "execution_count": 8,
     "metadata": {},
     "output_type": "execute_result"
    }
   ],
   "source": [
    "configfiles[0]"
   ]
  },
  {
   "cell_type": "markdown",
   "metadata": {},
   "source": [
    "In order to extract the labels we need some kind of filter."
   ]
  },
  {
   "cell_type": "code",
   "execution_count": 9,
   "metadata": {},
   "outputs": [],
   "source": [
    "for f in configfiles:\n",
    "    c = re.search('(trut|deceptiv)\\w',f)\n",
    "    label.append(c.group())"
   ]
  },
  {
   "cell_type": "code",
   "execution_count": 15,
   "metadata": {},
   "outputs": [
    {
     "data": {
      "text/html": [
       "<div>\n",
       "<style scoped>\n",
       "    .dataframe tbody tr th:only-of-type {\n",
       "        vertical-align: middle;\n",
       "    }\n",
       "\n",
       "    .dataframe tbody tr th {\n",
       "        vertical-align: top;\n",
       "    }\n",
       "\n",
       "    .dataframe thead th {\n",
       "        text-align: right;\n",
       "    }\n",
       "</style>\n",
       "<table border=\"1\" class=\"dataframe\">\n",
       "  <thead>\n",
       "    <tr style=\"text-align: right;\">\n",
       "      <th></th>\n",
       "      <th>Labels</th>\n",
       "    </tr>\n",
       "  </thead>\n",
       "  <tbody>\n",
       "    <tr>\n",
       "      <th>955</th>\n",
       "      <td>deceptive</td>\n",
       "    </tr>\n",
       "    <tr>\n",
       "      <th>764</th>\n",
       "      <td>truth</td>\n",
       "    </tr>\n",
       "    <tr>\n",
       "      <th>354</th>\n",
       "      <td>deceptive</td>\n",
       "    </tr>\n",
       "    <tr>\n",
       "      <th>1163</th>\n",
       "      <td>deceptive</td>\n",
       "    </tr>\n",
       "    <tr>\n",
       "      <th>1146</th>\n",
       "      <td>deceptive</td>\n",
       "    </tr>\n",
       "    <tr>\n",
       "      <th>33</th>\n",
       "      <td>deceptive</td>\n",
       "    </tr>\n",
       "    <tr>\n",
       "      <th>1466</th>\n",
       "      <td>truth</td>\n",
       "    </tr>\n",
       "    <tr>\n",
       "      <th>1455</th>\n",
       "      <td>truth</td>\n",
       "    </tr>\n",
       "    <tr>\n",
       "      <th>688</th>\n",
       "      <td>truth</td>\n",
       "    </tr>\n",
       "    <tr>\n",
       "      <th>1203</th>\n",
       "      <td>truth</td>\n",
       "    </tr>\n",
       "  </tbody>\n",
       "</table>\n",
       "</div>"
      ],
      "text/plain": [
       "         Labels\n",
       "955   deceptive\n",
       "764       truth\n",
       "354   deceptive\n",
       "1163  deceptive\n",
       "1146  deceptive\n",
       "33    deceptive\n",
       "1466      truth\n",
       "1455      truth\n",
       "688       truth\n",
       "1203      truth"
      ]
     },
     "execution_count": 15,
     "metadata": {},
     "output_type": "execute_result"
    }
   ],
   "source": [
    "labels = pd.DataFrame(label, columns = ['Labels'])\n",
    "labels.sample(10)"
   ]
  },
  {
   "cell_type": "markdown",
   "metadata": {},
   "source": [
    "It's time to extract the reviews from the text files."
   ]
  },
  {
   "cell_type": "code",
   "execution_count": 16,
   "metadata": {},
   "outputs": [
    {
     "name": "stdout",
     "output_type": "stream",
     "text": [
      "/Users/praga/Downloads/op_spam_v1.4/\n",
      "/Users/praga/Downloads/op_spam_v1.4/negative_polarity\n",
      "/Users/praga/Downloads/op_spam_v1.4/negative_polarity\\deceptive_from_MTurk\n",
      "/Users/praga/Downloads/op_spam_v1.4/negative_polarity\\deceptive_from_MTurk\\fold1\n",
      "/Users/praga/Downloads/op_spam_v1.4/negative_polarity\\deceptive_from_MTurk\\fold2\n",
      "/Users/praga/Downloads/op_spam_v1.4/negative_polarity\\deceptive_from_MTurk\\fold3\n",
      "/Users/praga/Downloads/op_spam_v1.4/negative_polarity\\deceptive_from_MTurk\\fold4\n",
      "/Users/praga/Downloads/op_spam_v1.4/negative_polarity\\deceptive_from_MTurk\\fold5\n",
      "/Users/praga/Downloads/op_spam_v1.4/negative_polarity\\truthful_from_Web\n",
      "/Users/praga/Downloads/op_spam_v1.4/negative_polarity\\truthful_from_Web\\fold1\n",
      "/Users/praga/Downloads/op_spam_v1.4/negative_polarity\\truthful_from_Web\\fold2\n",
      "/Users/praga/Downloads/op_spam_v1.4/negative_polarity\\truthful_from_Web\\fold3\n",
      "/Users/praga/Downloads/op_spam_v1.4/negative_polarity\\truthful_from_Web\\fold4\n",
      "/Users/praga/Downloads/op_spam_v1.4/negative_polarity\\truthful_from_Web\\fold5\n",
      "/Users/praga/Downloads/op_spam_v1.4/positive_polarity\n",
      "/Users/praga/Downloads/op_spam_v1.4/positive_polarity\\deceptive_from_MTurk\n",
      "/Users/praga/Downloads/op_spam_v1.4/positive_polarity\\deceptive_from_MTurk\\fold1\n",
      "/Users/praga/Downloads/op_spam_v1.4/positive_polarity\\deceptive_from_MTurk\\fold2\n",
      "/Users/praga/Downloads/op_spam_v1.4/positive_polarity\\deceptive_from_MTurk\\fold3\n",
      "/Users/praga/Downloads/op_spam_v1.4/positive_polarity\\deceptive_from_MTurk\\fold4\n",
      "/Users/praga/Downloads/op_spam_v1.4/positive_polarity\\deceptive_from_MTurk\\fold5\n",
      "/Users/praga/Downloads/op_spam_v1.4/positive_polarity\\truthful_from_TripAdvisor\n",
      "/Users/praga/Downloads/op_spam_v1.4/positive_polarity\\truthful_from_TripAdvisor\\fold1\n",
      "/Users/praga/Downloads/op_spam_v1.4/positive_polarity\\truthful_from_TripAdvisor\\fold2\n",
      "/Users/praga/Downloads/op_spam_v1.4/positive_polarity\\truthful_from_TripAdvisor\\fold3\n",
      "/Users/praga/Downloads/op_spam_v1.4/positive_polarity\\truthful_from_TripAdvisor\\fold4\n",
      "/Users/praga/Downloads/op_spam_v1.4/positive_polarity\\truthful_from_TripAdvisor\\fold5\n"
     ]
    }
   ],
   "source": [
    "review = []\n",
    "directory =os.path.join(\"/Users/praga/Downloads/op_spam_v1.4/\")\n",
    "for subdir,dirs ,files in os.walk(directory):\n",
    "    print (subdir)\n",
    "    for file in files:\n",
    "        if fnmatch.filter(files, '*.txt'):\n",
    "            f=open(os.path.join(subdir, file),'r')\n",
    "            a = f.read()\n",
    "            review.append(a)"
   ]
  },
  {
   "cell_type": "code",
   "execution_count": 18,
   "metadata": {},
   "outputs": [
    {
     "data": {
      "text/html": [
       "<div>\n",
       "<style scoped>\n",
       "    .dataframe tbody tr th:only-of-type {\n",
       "        vertical-align: middle;\n",
       "    }\n",
       "\n",
       "    .dataframe tbody tr th {\n",
       "        vertical-align: top;\n",
       "    }\n",
       "\n",
       "    .dataframe thead th {\n",
       "        text-align: right;\n",
       "    }\n",
       "</style>\n",
       "<table border=\"1\" class=\"dataframe\">\n",
       "  <thead>\n",
       "    <tr style=\"text-align: right;\">\n",
       "      <th></th>\n",
       "      <th>HotelReviews</th>\n",
       "    </tr>\n",
       "  </thead>\n",
       "  <tbody>\n",
       "    <tr>\n",
       "      <th>0</th>\n",
       "      <td>We stayed at the Schicago Hilton for 4 days an...</td>\n",
       "    </tr>\n",
       "    <tr>\n",
       "      <th>1</th>\n",
       "      <td>Hotel is located 1/2 mile from the train stati...</td>\n",
       "    </tr>\n",
       "    <tr>\n",
       "      <th>2</th>\n",
       "      <td>I made my reservation at the Hilton Chicago be...</td>\n",
       "    </tr>\n",
       "    <tr>\n",
       "      <th>3</th>\n",
       "      <td>When most people think Hilton, they think luxu...</td>\n",
       "    </tr>\n",
       "    <tr>\n",
       "      <th>4</th>\n",
       "      <td>My husband and I recently stayed stayed at the...</td>\n",
       "    </tr>\n",
       "  </tbody>\n",
       "</table>\n",
       "</div>"
      ],
      "text/plain": [
       "                                        HotelReviews\n",
       "0  We stayed at the Schicago Hilton for 4 days an...\n",
       "1  Hotel is located 1/2 mile from the train stati...\n",
       "2  I made my reservation at the Hilton Chicago be...\n",
       "3  When most people think Hilton, they think luxu...\n",
       "4  My husband and I recently stayed stayed at the..."
      ]
     },
     "execution_count": 18,
     "metadata": {},
     "output_type": "execute_result"
    }
   ],
   "source": [
    "reviews = pd.DataFrame(review, columns = ['HotelReviews'])\n",
    "reviews.head()"
   ]
  },
  {
   "cell_type": "markdown",
   "metadata": {},
   "source": [
    "Now merge both the labels and the reviews dataframe."
   ]
  },
  {
   "cell_type": "code",
   "execution_count": 22,
   "metadata": {},
   "outputs": [
    {
     "data": {
      "text/html": [
       "<div>\n",
       "<style scoped>\n",
       "    .dataframe tbody tr th:only-of-type {\n",
       "        vertical-align: middle;\n",
       "    }\n",
       "\n",
       "    .dataframe tbody tr th {\n",
       "        vertical-align: top;\n",
       "    }\n",
       "\n",
       "    .dataframe thead th {\n",
       "        text-align: right;\n",
       "    }\n",
       "</style>\n",
       "<table border=\"1\" class=\"dataframe\">\n",
       "  <thead>\n",
       "    <tr style=\"text-align: right;\">\n",
       "      <th></th>\n",
       "      <th>HotelReviews</th>\n",
       "      <th>Labels</th>\n",
       "    </tr>\n",
       "  </thead>\n",
       "  <tbody>\n",
       "    <tr>\n",
       "      <th>282</th>\n",
       "      <td>i recently stayed at the sheraton chicago hote...</td>\n",
       "      <td>deceptive</td>\n",
       "    </tr>\n",
       "    <tr>\n",
       "      <th>1106</th>\n",
       "      <td>my family and i recently attended a wedding in...</td>\n",
       "      <td>deceptive</td>\n",
       "    </tr>\n",
       "    <tr>\n",
       "      <th>767</th>\n",
       "      <td>after reading all the lukewarm reviews for thi...</td>\n",
       "      <td>truth</td>\n",
       "    </tr>\n",
       "    <tr>\n",
       "      <th>342</th>\n",
       "      <td>i recently stayed at the amalfi hotel in chica...</td>\n",
       "      <td>deceptive</td>\n",
       "    </tr>\n",
       "    <tr>\n",
       "      <th>375</th>\n",
       "      <td>my wife and i were excited to visit and shop a...</td>\n",
       "      <td>deceptive</td>\n",
       "    </tr>\n",
       "    <tr>\n",
       "      <th>175</th>\n",
       "      <td>imagine flying to the windy city for business....</td>\n",
       "      <td>deceptive</td>\n",
       "    </tr>\n",
       "    <tr>\n",
       "      <th>1598</th>\n",
       "      <td>stayed here october 31 through november 5 for ...</td>\n",
       "      <td>truth</td>\n",
       "    </tr>\n",
       "    <tr>\n",
       "      <th>714</th>\n",
       "      <td>just wanted to let everyone know if you are lo...</td>\n",
       "      <td>truth</td>\n",
       "    </tr>\n",
       "    <tr>\n",
       "      <th>1230</th>\n",
       "      <td>i believe i can not describe how amazing was o...</td>\n",
       "      <td>truth</td>\n",
       "    </tr>\n",
       "    <tr>\n",
       "      <th>650</th>\n",
       "      <td>this review has two parts. . .i advise reading...</td>\n",
       "      <td>truth</td>\n",
       "    </tr>\n",
       "  </tbody>\n",
       "</table>\n",
       "</div>"
      ],
      "text/plain": [
       "                                           HotelReviews     Labels\n",
       "282   i recently stayed at the sheraton chicago hote...  deceptive\n",
       "1106  my family and i recently attended a wedding in...  deceptive\n",
       "767   after reading all the lukewarm reviews for thi...      truth\n",
       "342   i recently stayed at the amalfi hotel in chica...  deceptive\n",
       "375   my wife and i were excited to visit and shop a...  deceptive\n",
       "175   imagine flying to the windy city for business....  deceptive\n",
       "1598  stayed here october 31 through november 5 for ...      truth\n",
       "714   just wanted to let everyone know if you are lo...      truth\n",
       "1230  i believe i can not describe how amazing was o...      truth\n",
       "650   this review has two parts. . .i advise reading...      truth"
      ]
     },
     "execution_count": 22,
     "metadata": {},
     "output_type": "execute_result"
    }
   ],
   "source": [
    "result = pd.merge(reviews, labels,right_index=True,left_index = True)\n",
    "\n",
    "\n",
    "result['HotelReviews'] = result['HotelReviews'].map(lambda x: x.lower()) ## lower case\n",
    "result.sample(10)"
   ]
  },
  {
   "cell_type": "code",
   "execution_count": 29,
   "metadata": {},
   "outputs": [],
   "source": [
    "result.to_csv('/Users/praga/Downloads/op_spam_v1.4/df.csv',index=False)"
   ]
  }
 ],
 "metadata": {
  "kernelspec": {
   "display_name": "Python 2",
   "language": "python",
   "name": "python2"
  },
  "language_info": {
   "codemirror_mode": {
    "name": "ipython",
    "version": 2
   },
   "file_extension": ".py",
   "mimetype": "text/x-python",
   "name": "python",
   "nbconvert_exporter": "python",
   "pygments_lexer": "ipython2",
   "version": "2.7.14"
  }
 },
 "nbformat": 4,
 "nbformat_minor": 2
}
